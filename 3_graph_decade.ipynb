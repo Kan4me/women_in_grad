{
 "cells": [
  {
   "cell_type": "code",
   "execution_count": 54,
   "metadata": {},
   "outputs": [],
   "source": [
    "import pandas as pd"
   ]
  },
  {
   "cell_type": "code",
   "execution_count": 85,
   "metadata": {},
   "outputs": [],
   "source": [
    "df_dict = {}\n",
    "\n",
    "df_dict[10] = pd.read_csv(\"data/2010.csv\",sep=\"|\", dtype='unicode')\n",
    "df_dict[11] = pd.read_csv(\"data/2011.csv\",sep=\"|\", dtype='unicode')\n",
    "df_dict[12] = pd.read_csv(\"data/2012.csv\",sep=\"|\", dtype='unicode')\n",
    "df_dict[13] = pd.read_csv(\"data/2013.csv\",sep=\"|\", dtype='unicode')\n",
    "df_dict[14] = pd.read_csv(\"data/2014.csv\",sep=\"|\", dtype='unicode')\n",
    "df_dict[15] = pd.read_csv(\"data/2015.csv\",sep=\"|\", dtype='unicode')\n",
    "df_dict[16] = pd.read_csv(\"data/2016.csv\",sep=\"|\", dtype='unicode')\n",
    "df_dict[17] = pd.read_csv(\"data/2017.csv\",sep=\"|\", dtype='unicode')\n",
    "df_dict[18] = pd.read_csv(\"data/2018.csv\",sep=\"|\", dtype='unicode')"
   ]
  },
  {
   "cell_type": "markdown",
   "metadata": {},
   "source": [
    "## Shows how many women in 100.000 entered the brazilians uni each year"
   ]
  },
  {
   "cell_type": "code",
   "execution_count": 95,
   "metadata": {},
   "outputs": [
    {
     "name": "stdout",
     "output_type": "stream",
     "text": [
      "Year of 2010\n",
      "55712\n",
      "\n",
      "Year of 2011\n",
      "55926\n",
      "\n",
      "Year of 2012\n",
      "55729\n",
      "\n",
      "Year of 2013\n",
      "56099\n",
      "\n",
      "Year of 2014\n",
      "55935\n",
      "\n",
      "Year of 2015\n",
      "55703\n",
      "\n",
      "Year of 2016\n",
      "55771\n",
      "\n",
      "Year of 2017\n",
      "51226\n",
      "\n",
      "Year of 2018\n",
      "55693\n",
      "\n"
     ]
    }
   ],
   "source": [
    "for x in range(10, 17):\n",
    "    df_loop = df_dict[x]\n",
    "    print (\"Year of 20{}\".format(x))\n",
    "    print(df_loop.query('IN_SEXO_ALUNO == \"1\"').IN_SEXO_ALUNO.count())\n",
    "    print()\n",
    "\n",
    "for x in range(17, 19):\n",
    "    df_loop = df_dict[x]\n",
    "    print (\"Year of 20{}\".format(x))\n",
    "    print(df_loop.query('TP_SEXO == \"1\"').TP_SEXO.count())\n",
    "    print()"
   ]
  },
  {
   "cell_type": "code",
   "execution_count": 104,
   "metadata": {},
   "outputs": [],
   "source": [
    "# for x in range(10, 17):\n",
    "#     df_loop = df_dict[x]\n",
    "#     print (\"Year of 20{}\".format(x))\n",
    "    \n",
    "#     print(\"Total in Medicine\")\n",
    "#     print(df_loop.query('NO_CURSO == \"MEDICINA\"').IN_SEXO_ALUNO.count())\n",
    "#     print(\"Female in Medicine\")\n",
    "#     print(df_loop.query('IN_SEXO_ALUNO == \"1\" & NO_CURSO == \"MEDICINA\"').IN_SEXO_ALUNO.count())\n",
    "\n",
    "#     print(\"Total in Law\")\n",
    "#     print(df_loop.query('NO_CURSO == \"DIREITO\"').IN_SEXO_ALUNO.count())\n",
    "#     print(\"Female in Law\")\n",
    "#     print(df_loop.query('IN_SEXO_ALUNO == \"1\" & NO_CURSO == \"DIREITO\"').IN_SEXO_ALUNO.count())\n",
    "\n",
    "#     print(\"Total in Phisics\")\n",
    "#     print(df_loop.query('NO_CURSO == \"F�SICA\"').IN_SEXO_ALUNO.count())\n",
    "#     print(\"Female in Law\")\n",
    "#     print(df_loop.query('IN_SEXO_ALUNO == \"1\" & NO_CURSO == \"F�SICA\"').IN_SEXO_ALUNO.count())\n",
    "\n",
    "#     print(\"Total in Computer Science\")\n",
    "#     print(df_loop.query('NO_CURSO == \"CI�NCIA DA COMPUTA��O\"').IN_SEXO_ALUNO.count())\n",
    "#     print(\"Female in Law\")\n",
    "#     print(df_loop.query('IN_SEXO_ALUNO == \"1\" & NO_CURSO == \"CI�NCIA DA COMPUTA��O\"').IN_SEXO_ALUNO.count())"
   ]
  },
  {
   "cell_type": "markdown",
   "metadata": {},
   "source": [
    "## Medicine"
   ]
  },
  {
   "cell_type": "code",
   "execution_count": 108,
   "metadata": {},
   "outputs": [
    {
     "name": "stdout",
     "output_type": "stream",
     "text": [
      "Year of 2010\n",
      "Female percentage\n",
      "53.06122448979592\n",
      "\n",
      "Year of 2011\n",
      "Female percentage\n",
      "54.24528301886792\n",
      "\n",
      "Year of 2012\n",
      "Female percentage\n",
      "53.99473222124671\n",
      "\n",
      "Year of 2013\n",
      "Female percentage\n",
      "55.57337610264635\n",
      "\n",
      "Year of 2014\n",
      "Female percentage\n",
      "55.714285714285715\n",
      "\n",
      "Year of 2015\n",
      "Female percentage\n",
      "54.88530161427358\n",
      "\n",
      "Year of 2016\n",
      "Female percentage\n",
      "58.8477366255144\n",
      "\n",
      "Year of 2017\n",
      "Female percentage\n",
      "48.23091247672253\n",
      "\n",
      "Year of 2018\n",
      "Female percentage\n",
      "20.0\n",
      "\n"
     ]
    }
   ],
   "source": [
    "for x in range(10, 17):\n",
    "    df_loop = df_dict[x]\n",
    "    print (\"Year of 20{}\".format(x))\n",
    "    \n",
    "#     print(\"Total in Medicine\")\n",
    "    total = df_loop.query('NO_CURSO == \"MEDICINA\"').IN_SEXO_ALUNO.count()\n",
    "#     print(total)\n",
    "#     print(\"Female in Medicine\")\n",
    "    female_total = df_loop.query('IN_SEXO_ALUNO == \"1\" & NO_CURSO == \"MEDICINA\"').IN_SEXO_ALUNO.count()\n",
    "#     print(female_total)\n",
    "\n",
    "    print(\"Female percentage\")\n",
    "    print (100*female_total/total)\n",
    "    print()\n",
    "    \n",
    "for x in range(17, 19):\n",
    "    df_loop = df_dict[x]\n",
    "    print (\"Year of 20{}\".format(x))\n",
    "    \n",
    "    #Medicine has the CO_CURSO key value 12 \n",
    "    total = df_loop.query('CO_CURSO == \"12\"').TP_SEXO.count()\n",
    "    female_total = df_loop.query('TP_SEXO == \"1\" & CO_CURSO == \"12\"').TP_SEXO.count()\n",
    "\n",
    "    print(\"Female percentage\")\n",
    "    print (100*female_total/total)\n",
    "    print()\n"
   ]
  },
  {
   "cell_type": "markdown",
   "metadata": {},
   "source": [
    "## Law"
   ]
  },
  {
   "cell_type": "code",
   "execution_count": 103,
   "metadata": {},
   "outputs": [
    {
     "name": "stdout",
     "output_type": "stream",
     "text": [
      "Year of 2010\n",
      "Female percentage\n",
      "50.64700285442436\n",
      "\n",
      "Year of 2011\n",
      "Female percentage\n",
      "51.50608225526163\n",
      "\n",
      "Year of 2012\n",
      "Female percentage\n",
      "52.51581801747514\n",
      "\n",
      "Year of 2013\n",
      "Female percentage\n",
      "53.77111826226871\n",
      "\n",
      "Year of 2014\n",
      "Female percentage\n",
      "53.77272265664669\n",
      "\n",
      "Year of 2015\n",
      "Female percentage\n",
      "54.82155639635955\n",
      "\n",
      "Year of 2016\n",
      "Female percentage\n",
      "54.89917924815077\n",
      "\n"
     ]
    }
   ],
   "source": [
    "for x in range(10, 17):\n",
    "    df_loop = df_dict[x]\n",
    "    print (\"Year of 20{}\".format(x))\n",
    "    \n",
    "    total = df_loop.query('NO_CURSO == \"DIREITO\"').IN_SEXO_ALUNO.count()\n",
    "    female_total = df_loop.query('IN_SEXO_ALUNO == \"1\" & NO_CURSO == \"DIREITO\"').IN_SEXO_ALUNO.count()\n",
    "\n",
    "    print(\"Female percentage\")\n",
    "    print (100*female_total/total)\n",
    "    print()\n"
   ]
  },
  {
   "cell_type": "markdown",
   "metadata": {},
   "source": [
    "## Phisics"
   ]
  },
  {
   "cell_type": "code",
   "execution_count": 101,
   "metadata": {},
   "outputs": [
    {
     "name": "stdout",
     "output_type": "stream",
     "text": [
      "Year of 2010\n",
      "Female percentage\n",
      "28.571428571428573\n",
      "\n",
      "Year of 2011\n",
      "Female percentage\n",
      "28.541666666666668\n",
      "\n",
      "Year of 2012\n",
      "Female percentage\n",
      "31.808278867102395\n",
      "\n",
      "Year of 2013\n",
      "Female percentage\n",
      "30.071599045346062\n",
      "\n",
      "Year of 2014\n",
      "Female percentage\n",
      "29.807692307692307\n",
      "\n",
      "Year of 2015\n",
      "Female percentage\n",
      "31.362467866323907\n",
      "\n",
      "Year of 2016\n",
      "Female percentage\n",
      "29.023746701846967\n",
      "\n"
     ]
    }
   ],
   "source": [
    "for x in range(10, 17):\n",
    "    df_loop = df_dict[x]\n",
    "    print (\"Year of 20{}\".format(x))\n",
    "    \n",
    "    total = df_loop.query('NO_CURSO == \"F�SICA\"').IN_SEXO_ALUNO.count()\n",
    "    female_total = df_loop.query('IN_SEXO_ALUNO == \"1\" & NO_CURSO == \"F�SICA\"').IN_SEXO_ALUNO.count()\n",
    "\n",
    "    print(\"Female percentage\")\n",
    "    print (100*female_total/total)\n",
    "    print()\n"
   ]
  },
  {
   "cell_type": "markdown",
   "metadata": {},
   "source": [
    "## Computer Science"
   ]
  },
  {
   "cell_type": "code",
   "execution_count": 102,
   "metadata": {},
   "outputs": [
    {
     "name": "stdout",
     "output_type": "stream",
     "text": [
      "Year of 2010\n",
      "Female percentage\n",
      "14.102564102564102\n",
      "\n",
      "Year of 2011\n",
      "Female percentage\n",
      "15.290519877675841\n",
      "\n",
      "Year of 2012\n",
      "Female percentage\n",
      "13.68421052631579\n",
      "\n",
      "Year of 2013\n",
      "Female percentage\n",
      "13.636363636363637\n",
      "\n",
      "Year of 2014\n",
      "Female percentage\n",
      "14.837153196622436\n",
      "\n",
      "Year of 2015\n",
      "Female percentage\n",
      "11.600928074245939\n",
      "\n",
      "Year of 2016\n",
      "Female percentage\n",
      "11.712846347607053\n",
      "\n"
     ]
    }
   ],
   "source": [
    "for x in range(10, 17):\n",
    "    df_loop = df_dict[x]\n",
    "    print (\"Year of 20{}\".format(x))\n",
    "    \n",
    "    total = df_loop.query('NO_CURSO == \"CI�NCIA DA COMPUTA��O\"').IN_SEXO_ALUNO.count()\n",
    "    female_total = df_loop.query('IN_SEXO_ALUNO == \"1\" & NO_CURSO == \"CI�NCIA DA COMPUTA��O\"').IN_SEXO_ALUNO.count()\n",
    "\n",
    "    print(\"Female percentage\")\n",
    "    print (100*female_total/total)\n",
    "    print()\n"
   ]
  },
  {
   "cell_type": "code",
   "execution_count": null,
   "metadata": {},
   "outputs": [],
   "source": []
  }
 ],
 "metadata": {
  "kernelspec": {
   "display_name": "Python 3",
   "language": "python",
   "name": "python3"
  },
  "language_info": {
   "codemirror_mode": {
    "name": "ipython",
    "version": 3
   },
   "file_extension": ".py",
   "mimetype": "text/x-python",
   "name": "python",
   "nbconvert_exporter": "python",
   "pygments_lexer": "ipython3",
   "version": "3.7.3"
  }
 },
 "nbformat": 4,
 "nbformat_minor": 2
}
