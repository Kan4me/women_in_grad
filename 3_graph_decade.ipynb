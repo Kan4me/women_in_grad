{
 "cells": [
  {
   "cell_type": "code",
   "execution_count": 1,
   "metadata": {},
   "outputs": [],
   "source": [
    "import pandas as pd"
   ]
  },
  {
   "cell_type": "code",
   "execution_count": 7,
   "metadata": {},
   "outputs": [],
   "source": [
    "df10 = pd.read_csv(\"data/2010.csv\",sep=\"|\", dtype='unicode')\n",
    "df11 = pd.read_csv(\"data/2011.csv\",sep=\"|\", dtype='unicode')\n",
    "df12 = pd.read_csv(\"data/2012.csv\",sep=\"|\", dtype='unicode')\n",
    "df13 = pd.read_csv(\"data/2013.csv\",sep=\"|\", dtype='unicode')\n",
    "df14 = pd.read_csv(\"data/2014.csv\",sep=\"|\", dtype='unicode')\n",
    "df15 = pd.read_csv(\"data/2015.csv\",sep=\"|\", dtype='unicode')\n",
    "df16 = pd.read_csv(\"data/2016.csv\",sep=\"|\", dtype='unicode')\n",
    "df17 = pd.read_csv(\"data/2017.csv\",sep=\"|\", dtype='unicode')\n",
    "df18 = pd.read_csv(\"data/2018.csv\",sep=\"|\", dtype='unicode')"
   ]
  },
  {
   "cell_type": "markdown",
   "metadata": {},
   "source": [
    "## Shows how many women in 100.000 entered the brazilians uni each year"
   ]
  },
  {
   "cell_type": "code",
   "execution_count": 13,
   "metadata": {},
   "outputs": [
    {
     "name": "stdout",
     "output_type": "stream",
     "text": [
      "55712\n",
      "55926\n",
      "55729\n",
      "56099\n",
      "55935\n",
      "55703\n",
      "55771\n",
      "51226\n",
      "55693\n"
     ]
    }
   ],
   "source": [
    "print(df10.query('IN_SEXO_ALUNO == \"1\"').IN_SEXO_ALUNO.count())\n",
    "print(df11.query('IN_SEXO_ALUNO == \"1\"').IN_SEXO_ALUNO.count())\n",
    "print(df12.query('IN_SEXO_ALUNO == \"1\"').IN_SEXO_ALUNO.count())\n",
    "print(df13.query('IN_SEXO_ALUNO == \"1\"').IN_SEXO_ALUNO.count())\n",
    "print(df14.query('IN_SEXO_ALUNO == \"1\"').IN_SEXO_ALUNO.count())\n",
    "print(df15.query('IN_SEXO_ALUNO == \"1\"').IN_SEXO_ALUNO.count())\n",
    "print(df16.query('IN_SEXO_ALUNO == \"1\"').IN_SEXO_ALUNO.count())\n",
    "print(df17.query('TP_SEXO == \"1\"').TP_SEXO.count())\n",
    "print(df18.query('TP_SEXO == \"1\"').TP_SEXO.count())"
   ]
  },
  {
   "cell_type": "markdown",
   "metadata": {},
   "source": [
    "## 2010"
   ]
  },
  {
   "cell_type": "code",
   "execution_count": 29,
   "metadata": {},
   "outputs": [
    {
     "name": "stdout",
     "output_type": "stream",
     "text": [
      "1323\n",
      "702\n",
      "10510\n",
      "5323\n",
      "483\n",
      "138\n",
      "1014\n",
      "143\n"
     ]
    }
   ],
   "source": [
    "# MEDICINA\n",
    "# direito\n",
    "# ciencias fisicas 44\n",
    "# ciencia da compitacao 481C01\n",
    "\n",
    "print(df10.query('NO_CURSO == \"MEDICINA\"').IN_SEXO_ALUNO.count())\n",
    "print(df10.query('IN_SEXO_ALUNO == \"1\" & NO_CURSO == \"MEDICINA\"').IN_SEXO_ALUNO.count())\n",
    "\n",
    "print(df10.query('NO_CURSO == \"DIREITO\"').IN_SEXO_ALUNO.count())\n",
    "print(df10.query('IN_SEXO_ALUNO == \"1\" & NO_CURSO == \"DIREITO\"').IN_SEXO_ALUNO.count())\n",
    "\n",
    "print(df10.query('NO_CURSO == \"F�SICA\"').IN_SEXO_ALUNO.count())\n",
    "print(df10.query('IN_SEXO_ALUNO == \"1\" & NO_CURSO == \"F�SICA\"').IN_SEXO_ALUNO.count())\n",
    "\n",
    "print(df10.query('NO_CURSO == \"CI�NCIA DA COMPUTA��O\"').IN_SEXO_ALUNO.count())\n",
    "print(df10.query('IN_SEXO_ALUNO == \"1\" & NO_CURSO == \"CI�NCIA DA COMPUTA��O\"').IN_SEXO_ALUNO.count())"
   ]
  },
  {
   "cell_type": "markdown",
   "metadata": {},
   "source": [
    "% of presence of women in\n",
    "\n",
    "medicine\n",
    "\n",
    "law\n",
    "\n",
    "phisics\n",
    "\n",
    "computer science"
   ]
  },
  {
   "cell_type": "code",
   "execution_count": 41,
   "metadata": {},
   "outputs": [
    {
     "name": "stdout",
     "output_type": "stream",
     "text": [
      "53.06122448979592\n",
      "50.64700285442436\n",
      "28.571428571428573\n",
      "14.102564102564102\n"
     ]
    }
   ],
   "source": [
    "print (100*702/1323)\n",
    "print (100*5323/10510)\n",
    "print (100*138/483)\n",
    "print (100*143/1014)"
   ]
  },
  {
   "cell_type": "markdown",
   "metadata": {},
   "source": [
    "## 2011\n"
   ]
  },
  {
   "cell_type": "code",
   "execution_count": 42,
   "metadata": {},
   "outputs": [
    {
     "name": "stdout",
     "output_type": "stream",
     "text": [
      "1272\n",
      "690\n",
      "10358\n",
      "5335\n",
      "480\n",
      "137\n",
      "981\n",
      "150\n"
     ]
    }
   ],
   "source": [
    "# MEDICINA\n",
    "# direito\n",
    "# ciencias fisicas 44\n",
    "# ciencia da compitacao 481C01\n",
    "\n",
    "print(df11.query('NO_CURSO == \"MEDICINA\"').IN_SEXO_ALUNO.count())\n",
    "print(df11.query('IN_SEXO_ALUNO == \"1\" & NO_CURSO == \"MEDICINA\"').IN_SEXO_ALUNO.count())\n",
    "\n",
    "print(df11.query('NO_CURSO == \"DIREITO\"').IN_SEXO_ALUNO.count())\n",
    "print(df11.query('IN_SEXO_ALUNO == \"1\" & NO_CURSO == \"DIREITO\"').IN_SEXO_ALUNO.count())\n",
    "\n",
    "print(df11.query('NO_CURSO == \"F�SICA\"').IN_SEXO_ALUNO.count())\n",
    "print(df11.query('IN_SEXO_ALUNO == \"1\" & NO_CURSO == \"F�SICA\"').IN_SEXO_ALUNO.count())\n",
    "\n",
    "print(df11.query('NO_CURSO == \"CI�NCIA DA COMPUTA��O\"').IN_SEXO_ALUNO.count())\n",
    "print(df11.query('IN_SEXO_ALUNO == \"1\" & NO_CURSO == \"CI�NCIA DA COMPUTA��O\"').IN_SEXO_ALUNO.count())"
   ]
  },
  {
   "cell_type": "code",
   "execution_count": 43,
   "metadata": {},
   "outputs": [
    {
     "name": "stdout",
     "output_type": "stream",
     "text": [
      "54.24528301886792\n",
      "51.50608225526163\n",
      "28.541666666666668\n",
      "15.290519877675841\n"
     ]
    }
   ],
   "source": [
    "print (100*690/1272)\n",
    "print (100*5335/10358)\n",
    "print (100*137/480)\n",
    "print (100*150/981)"
   ]
  },
  {
   "cell_type": "markdown",
   "metadata": {},
   "source": [
    "## 2012"
   ]
  },
  {
   "cell_type": "code",
   "execution_count": 45,
   "metadata": {},
   "outputs": [
    {
     "name": "stdout",
     "output_type": "stream",
     "text": [
      "1139\n",
      "615\n",
      "9957\n",
      "5229\n",
      "459\n",
      "146\n",
      "950\n",
      "130\n"
     ]
    }
   ],
   "source": [
    "# MEDICINA\n",
    "# direito\n",
    "# ciencias fisicas 44\n",
    "# ciencia da compitacao 481C01\n",
    "\n",
    "print(df12.query('NO_CURSO == \"MEDICINA\"').IN_SEXO_ALUNO.count())\n",
    "print(df12.query('IN_SEXO_ALUNO == \"1\" & NO_CURSO == \"MEDICINA\"').IN_SEXO_ALUNO.count())\n",
    "\n",
    "print(df12.query('NO_CURSO == \"DIREITO\"').IN_SEXO_ALUNO.count())\n",
    "print(df12.query('IN_SEXO_ALUNO == \"1\" & NO_CURSO == \"DIREITO\"').IN_SEXO_ALUNO.count())\n",
    "\n",
    "print(df12.query('NO_CURSO == \"F�SICA\"').IN_SEXO_ALUNO.count())\n",
    "print(df12.query('IN_SEXO_ALUNO == \"1\" & NO_CURSO == \"F�SICA\"').IN_SEXO_ALUNO.count())\n",
    "\n",
    "print(df12.query('NO_CURSO == \"CI�NCIA DA COMPUTA��O\"').IN_SEXO_ALUNO.count())\n",
    "print(df12.query('IN_SEXO_ALUNO == \"1\" & NO_CURSO == \"CI�NCIA DA COMPUTA��O\"').IN_SEXO_ALUNO.count())"
   ]
  },
  {
   "cell_type": "code",
   "execution_count": null,
   "metadata": {},
   "outputs": [],
   "source": []
  }
 ],
 "metadata": {
  "kernelspec": {
   "display_name": "Python 3",
   "language": "python",
   "name": "python3"
  },
  "language_info": {
   "codemirror_mode": {
    "name": "ipython",
    "version": 3
   },
   "file_extension": ".py",
   "mimetype": "text/x-python",
   "name": "python",
   "nbconvert_exporter": "python",
   "pygments_lexer": "ipython3",
   "version": "3.7.3"
  }
 },
 "nbformat": 4,
 "nbformat_minor": 2
}
