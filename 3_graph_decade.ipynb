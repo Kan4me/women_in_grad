{
 "cells": [
  {
   "cell_type": "code",
   "execution_count": 1,
   "metadata": {},
   "outputs": [],
   "source": [
    "import pandas as pd"
   ]
  },
  {
   "cell_type": "code",
   "execution_count": 7,
   "metadata": {},
   "outputs": [],
   "source": [
    "df10 = pd.read_csv(\"data/2010.csv\",sep=\"|\", dtype='unicode')\n",
    "df11 = pd.read_csv(\"data/2011.csv\",sep=\"|\", dtype='unicode')\n",
    "df12 = pd.read_csv(\"data/2012.csv\",sep=\"|\", dtype='unicode')\n",
    "df13 = pd.read_csv(\"data/2013.csv\",sep=\"|\", dtype='unicode')\n",
    "df14 = pd.read_csv(\"data/2014.csv\",sep=\"|\", dtype='unicode')\n",
    "df15 = pd.read_csv(\"data/2015.csv\",sep=\"|\", dtype='unicode')\n",
    "df16 = pd.read_csv(\"data/2016.csv\",sep=\"|\", dtype='unicode')\n",
    "df17 = pd.read_csv(\"data/2017.csv\",sep=\"|\", dtype='unicode')\n",
    "df18 = pd.read_csv(\"data/2018.csv\",sep=\"|\", dtype='unicode')"
   ]
  },
  {
   "cell_type": "markdown",
   "metadata": {},
   "source": [
    "## Shows how many women in 100.000 entered the brazilians uni each year"
   ]
  },
  {
   "cell_type": "code",
   "execution_count": 13,
   "metadata": {},
   "outputs": [
    {
     "name": "stdout",
     "output_type": "stream",
     "text": [
      "55712\n",
      "55926\n",
      "55729\n",
      "56099\n",
      "55935\n",
      "55703\n",
      "55771\n",
      "51226\n",
      "55693\n"
     ]
    }
   ],
   "source": [
    "print(df10.query('IN_SEXO_ALUNO == \"1\"').IN_SEXO_ALUNO.count())\n",
    "print(df11.query('IN_SEXO_ALUNO == \"1\"').IN_SEXO_ALUNO.count())\n",
    "print(df12.query('IN_SEXO_ALUNO == \"1\"').IN_SEXO_ALUNO.count())\n",
    "print(df13.query('IN_SEXO_ALUNO == \"1\"').IN_SEXO_ALUNO.count())\n",
    "print(df14.query('IN_SEXO_ALUNO == \"1\"').IN_SEXO_ALUNO.count())\n",
    "print(df15.query('IN_SEXO_ALUNO == \"1\"').IN_SEXO_ALUNO.count())\n",
    "print(df16.query('IN_SEXO_ALUNO == \"1\"').IN_SEXO_ALUNO.count())\n",
    "print(df17.query('TP_SEXO == \"1\"').TP_SEXO.count())\n",
    "print(df18.query('TP_SEXO == \"1\"').TP_SEXO.count())"
   ]
  },
  {
   "cell_type": "code",
   "execution_count": null,
   "metadata": {},
   "outputs": [],
   "source": [
    "# MEDICINA\n",
    "\n",
    "print(df10.query('IN_SEXO_ALUNO == \"1\" & TP_CATEGORIA_ADMINISTRATIVA == \"1\"').TP_SEXO.count())"
   ]
  }
 ],
 "metadata": {
  "kernelspec": {
   "display_name": "Python 3",
   "language": "python",
   "name": "python3"
  },
  "language_info": {
   "codemirror_mode": {
    "name": "ipython",
    "version": 3
   },
   "file_extension": ".py",
   "mimetype": "text/x-python",
   "name": "python",
   "nbconvert_exporter": "python",
   "pygments_lexer": "ipython3",
   "version": "3.7.3"
  }
 },
 "nbformat": 4,
 "nbformat_minor": 2
}
